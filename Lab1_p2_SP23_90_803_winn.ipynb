{
 "cells": [
  {
   "cell_type": "markdown",
   "id": "de574108",
   "metadata": {},
   "source": [
    "# Lab 1 - Part 2\n",
    "## 90-803 Machine Learning Foundations with Python\n",
    "### Name: winn\n",
    "#### Date: Friday, January 20th 2023\n",
    "\n",
    "Note: Part of this Notebook was taken from Lab 4 in 90-800 Exploratory Data Analysis and Visualization with Python (Fall 2022)"
   ]
  },
  {
   "cell_type": "markdown",
   "id": "7b26a3cc",
   "metadata": {},
   "source": [
    "### Changing the author field and file name.\n",
    "\n",
    " (a) Change the `Name:` field on the Jupyter Notebook document from YourNameHere to your own name.\n",
    "\n",
    " (b) Rename this file to \"Lab1_p2_SP23_90_803_YourHameHere.ipynb\", where YourNameHere is changed to your own name.\n",
    "\n",
    "\n",
    "### Installing and loading packages\n",
    "\n",
    "Before you begin this Lab make sure you have installed all the required libraries. Load the libraries as indicated below."
   ]
  },
  {
   "cell_type": "markdown",
   "id": "8a2bacc5",
   "metadata": {},
   "source": [
    "You only need to install libraries once.  Once they're installed, you may use them by **importing** the libraries using the `import` command.  For today's lab, you'll want to run the following code\n"
   ]
  },
  {
   "cell_type": "code",
   "execution_count": null,
   "id": "2982a13c",
   "metadata": {},
   "outputs": [],
   "source": [
    "#import necessary packages\n",
    "import pandas as pd\n",
    "import numpy as np\n",
    "import seaborn as sns\n",
    "from matplotlib import pyplot as plt\n",
    "%matplotlib inline\n"
   ]
  },
  {
   "cell_type": "markdown",
   "id": "b58491dc",
   "metadata": {},
   "source": [
    "## 1. Introducing your data story\n",
    "\n",
    "We are going to continue looking at the dataset from yesterday's lecture (Stop, Question and Frisk)."
   ]
  },
  {
   "cell_type": "markdown",
   "id": "61352db9",
   "metadata": {},
   "source": [
    "**1) a) Begin by reading the file provided (`stop_frisk_2020.csv`) and save it in dataframe called  `sqf`. Print the shape of this dataset and a sample of 5 rows from this dataframe.**"
   ]
  },
  {
   "cell_type": "code",
   "execution_count": null,
   "id": "70bdd816",
   "metadata": {},
   "outputs": [],
   "source": [
    "#your code here\n"
   ]
  },
  {
   "cell_type": "markdown",
   "id": "e6fa9ff6",
   "metadata": {},
   "source": [
    "**Make sure to properly commit your changes**"
   ]
  },
  {
   "cell_type": "markdown",
   "id": "f17393c4",
   "metadata": {},
   "source": [
    "## 2. Body of your Data Story\n",
    "\n",
    "For this section we are going to focus on the following question: \n",
    "- How does race impact the outcome from being stopped, questioned and frisked?"
   ]
  },
  {
   "cell_type": "markdown",
   "id": "d82ea147",
   "metadata": {},
   "source": [
    "**2) a) Create another dataframe that calcualate the mean for 'OBSERVED_DURATION_MINUTES' and 'STOP_DURATION_MINUTES' by 'SUSPECT_RACE_DESCRIPTION'. Print this dataframe to see the results.**"
   ]
  },
  {
   "cell_type": "code",
   "execution_count": null,
   "id": "e1ded512",
   "metadata": {},
   "outputs": [],
   "source": [
    "#group by 'SUSPECT_RACE_DESCRIPTION' - mean of 'OBSERVED_DURATION_MINUTES' and 'STOP_DURATION_MINUTES'\n",
    "# your code here"
   ]
  },
  {
   "cell_type": "markdown",
   "id": "eee8c8d9",
   "metadata": {},
   "source": [
    "**Make sure to properly commit your changes**"
   ]
  },
  {
   "cell_type": "markdown",
   "id": "6c1249b8",
   "metadata": {},
   "source": [
    "**2) b) To answer the question stated draw a histogram plot per race by stop_duration_minutes or a [ridgeplot](https://seaborn.pydata.org/examples/kde_ridgeplot.html).**"
   ]
  },
  {
   "cell_type": "code",
   "execution_count": null,
   "id": "742afa1c",
   "metadata": {},
   "outputs": [],
   "source": [
    "# ------- BOXPLOT INSTRUCTIONS -----------\n",
    "#sns.set_theme(style=\"ticks\")\n",
    "\n",
    "# Set the size and the scale\n",
    "#the scale will allow us to compare the races (visually)\n",
    "#f, ax = plt.subplots(figsize=(15, 6))\n",
    "#ax.set_xscale(\"log\")\n",
    "\n",
    "# Use a boxplot to plot the stop minutes in the x-axis and the race in the y-axis\n",
    "#sns.boxplot()\n",
    "\n",
    "# Add a stripplot(https://seaborn.pydata.org/generated/seaborn.stripplot.html) to get all the sample point\n",
    "#sns.stripplot()\n",
    "\n",
    "#sns.despine(trim=True, left=True)\n",
    "\n",
    "\n",
    "# ------- RIDGE PLOT INSTRUCTIONS -----------\n",
    "#To make it easier let's subset our data by filtering 'STOP_DURATION_MINUTES' <=20\n",
    "#This is only for educational reasons and for you to practice your plots.\n",
    "#sqf_sub = #your code\n",
    "#sqf_sub = sqf[sqf['STOP_DURATION_MINUTES']<=20]\n",
    "\n",
    "#sns.set_theme(style=\"white\", rc={\"axes.facecolor\": (0, 0, 0, 0)})\n",
    "#plt.figure(figsize=(10,20))\n",
    "\n",
    "\n",
    "#your g = sns.FacetGrid() should:\n",
    "#row=\"SUSPECT_RACE_DESCRIPTION\"\n",
    "#hue=\"SUSPECT_RACE_DESCRIPTION\"\n",
    "#g = sns.FacetGrid()\n",
    "\n",
    "#Use .map from FacetGrid (https://seaborn.pydata.org/generated/seaborn.FacetGrid.map.html)\n",
    "# to plot the the density(https://seaborn.pydata.org/generated/seaborn.kdeplot.html) of\n",
    "#STOP_DURATION_MINUTES\n",
    "\n",
    "# look at this code: https://seaborn.pydata.org/examples/kde_ridgeplot.html\n",
    "# to see other aspects you might need in your visualization\n",
    "#g = sns.FacetGrid()\n",
    "#g.map()\n",
    "#g.refline()"
   ]
  },
  {
   "cell_type": "markdown",
   "id": "1f3f1a08",
   "metadata": {},
   "source": [
    "---\n",
    "\n",
    "### PAUSE HERE\n",
    "\n",
    "Make sure to:\n",
    "\n",
    "* Commit your changes in your local repo\n",
    "* Push your changes to your remote repo\n",
    "* Show a TA your final work in the repo\n",
    "\n",
    "Note: if you don't finish 2)b) that is fine, just make sure to still merge any branches to main and push to your remote repo.\n",
    "\n",
    "---"
   ]
  },
  {
   "cell_type": "markdown",
   "id": "f064d7db",
   "metadata": {},
   "source": [
    "## References\n",
    "\n",
    "List any links or class material you used to complete this Lab. "
   ]
  },
  {
   "cell_type": "markdown",
   "id": "3b8d597b",
   "metadata": {},
   "source": [
    "## END OF LAB !"
   ]
  }
 ],
 "metadata": {
  "kernelspec": {
   "display_name": "Python 3 (ipykernel)",
   "language": "python",
   "name": "python3"
  },
  "language_info": {
   "codemirror_mode": {
    "name": "ipython",
    "version": 3
   },
   "file_extension": ".py",
   "mimetype": "text/x-python",
   "name": "python",
   "nbconvert_exporter": "python",
   "pygments_lexer": "ipython3",
   "version": "3.9.15"
  }
 },
 "nbformat": 4,
 "nbformat_minor": 5
}
